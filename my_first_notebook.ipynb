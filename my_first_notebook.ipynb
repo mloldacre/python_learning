{
 "cells": [
  {
   "cell_type": "code",
   "execution_count": 1,
   "id": "a50267e2",
   "metadata": {},
   "outputs": [
    {
     "name": "stdout",
     "output_type": "stream",
     "text": [
      "hello\n"
     ]
    }
   ],
   "source": [
    "print('hello')"
   ]
  },
  {
   "cell_type": "code",
   "execution_count": 2,
   "id": "b8103420",
   "metadata": {},
   "outputs": [
    {
     "name": "stdout",
     "output_type": "stream",
     "text": [
      "new\n"
     ]
    }
   ],
   "source": [
    "print('new')"
   ]
  },
  {
   "cell_type": "markdown",
   "id": "9cc1577c",
   "metadata": {},
   "source": [
    "Here are some notes for Python!"
   ]
  },
  {
   "cell_type": "markdown",
   "id": "2b6a94c6",
   "metadata": {},
   "source": [
    "Markdown text can be written when Markdown is selected in the dropdown menu"
   ]
  },
  {
   "attachments": {},
   "cell_type": "markdown",
   "id": "52e31605",
   "metadata": {},
   "source": [
    "Can I write markdown in VScode?"
   ]
  },
  {
   "cell_type": "code",
   "execution_count": 1,
   "id": "517357e4",
   "metadata": {},
   "outputs": [
    {
     "name": "stdout",
     "output_type": "stream",
     "text": [
      "YES I CAN!!!\n"
     ]
    }
   ],
   "source": [
    "print('YES I CAN!!!')"
   ]
  },
  {
   "cell_type": "code",
   "execution_count": null,
   "id": "8f3c9a81",
   "metadata": {},
   "outputs": [],
   "source": []
  }
 ],
 "metadata": {
  "kernelspec": {
   "display_name": "Python 3 (ipykernel)",
   "language": "python",
   "name": "python3"
  },
  "language_info": {
   "codemirror_mode": {
    "name": "ipython",
    "version": 3
   },
   "file_extension": ".py",
   "mimetype": "text/x-python",
   "name": "python",
   "nbconvert_exporter": "python",
   "pygments_lexer": "ipython3",
   "version": "3.11.0"
  }
 },
 "nbformat": 4,
 "nbformat_minor": 5
}
